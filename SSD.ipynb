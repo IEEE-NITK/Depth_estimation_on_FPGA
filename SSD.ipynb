{
 "cells": [
  {
   "cell_type": "code",
   "execution_count": 1,
   "metadata": {},
   "outputs": [
    {
     "name": "stdout",
     "output_type": "stream",
     "text": [
      ".................................................................................................................................................................................................................................................................................."
     ]
    },
    {
     "ename": "KeyboardInterrupt",
     "evalue": "",
     "output_type": "error",
     "traceback": [
      "\u001b[1;31m---------------------------------------------------------------------------\u001b[0m",
      "\u001b[1;31mKeyboardInterrupt\u001b[0m                         Traceback (most recent call last)",
      "\u001b[1;32m<ipython-input-1-575f887151f4>\u001b[0m in \u001b[0;36m<module>\u001b[1;34m\u001b[0m\n\u001b[0;32m     53\u001b[0m \u001b[1;33m\u001b[0m\u001b[0m\n\u001b[0;32m     54\u001b[0m \u001b[1;32mif\u001b[0m \u001b[0m__name__\u001b[0m \u001b[1;33m==\u001b[0m \u001b[1;34m'__main__'\u001b[0m\u001b[1;33m:\u001b[0m\u001b[1;33m\u001b[0m\u001b[1;33m\u001b[0m\u001b[0m\n\u001b[1;32m---> 55\u001b[1;33m     \u001b[0mstereo_match\u001b[0m\u001b[1;33m(\u001b[0m\u001b[1;34m\"left_rectified.png\"\u001b[0m\u001b[1;33m,\u001b[0m \u001b[1;34m\"right_rectified.png\"\u001b[0m\u001b[1;33m,\u001b[0m \u001b[1;36m6\u001b[0m\u001b[1;33m,\u001b[0m \u001b[1;36m30\u001b[0m\u001b[1;33m)\u001b[0m  \u001b[1;31m# 6x6 local search kernel, 30 pixel search range\u001b[0m\u001b[1;33m\u001b[0m\u001b[1;33m\u001b[0m\u001b[0m\n\u001b[0m",
      "\u001b[1;32m<ipython-input-1-575f887151f4>\u001b[0m in \u001b[0;36mstereo_match\u001b[1;34m(left_img, right_img, kernel, max_offset)\u001b[0m\n\u001b[0;32m     36\u001b[0m                         \u001b[1;31m# left[] and right[] are arrays of uint8, so converting them to int saves\u001b[0m\u001b[1;33m\u001b[0m\u001b[1;33m\u001b[0m\u001b[1;33m\u001b[0m\u001b[0m\n\u001b[0;32m     37\u001b[0m                         \u001b[1;31m# potential overflow, and executes a lot faster\u001b[0m\u001b[1;33m\u001b[0m\u001b[1;33m\u001b[0m\u001b[1;33m\u001b[0m\u001b[0m\n\u001b[1;32m---> 38\u001b[1;33m                         \u001b[0mssd_temp\u001b[0m \u001b[1;33m=\u001b[0m \u001b[0mint\u001b[0m\u001b[1;33m(\u001b[0m\u001b[0mleft\u001b[0m\u001b[1;33m[\u001b[0m\u001b[0my\u001b[0m\u001b[1;33m+\u001b[0m\u001b[0mv\u001b[0m\u001b[1;33m,\u001b[0m \u001b[0mx\u001b[0m\u001b[1;33m+\u001b[0m\u001b[0mu\u001b[0m\u001b[1;33m]\u001b[0m\u001b[1;33m)\u001b[0m \u001b[1;33m-\u001b[0m \u001b[0mint\u001b[0m\u001b[1;33m(\u001b[0m\u001b[0mright\u001b[0m\u001b[1;33m[\u001b[0m\u001b[0my\u001b[0m\u001b[1;33m+\u001b[0m\u001b[0mv\u001b[0m\u001b[1;33m,\u001b[0m \u001b[1;33m(\u001b[0m\u001b[0mx\u001b[0m\u001b[1;33m+\u001b[0m\u001b[0mu\u001b[0m\u001b[1;33m)\u001b[0m \u001b[1;33m-\u001b[0m \u001b[0moffset\u001b[0m\u001b[1;33m]\u001b[0m\u001b[1;33m)\u001b[0m\u001b[1;33m\u001b[0m\u001b[1;33m\u001b[0m\u001b[0m\n\u001b[0m\u001b[0;32m     39\u001b[0m                         \u001b[0mssd\u001b[0m \u001b[1;33m+=\u001b[0m \u001b[0mssd_temp\u001b[0m \u001b[1;33m*\u001b[0m \u001b[0mssd_temp\u001b[0m\u001b[1;33m\u001b[0m\u001b[1;33m\u001b[0m\u001b[0m\n\u001b[0;32m     40\u001b[0m \u001b[1;33m\u001b[0m\u001b[0m\n",
      "\u001b[1;31mKeyboardInterrupt\u001b[0m: "
     ]
    }
   ],
   "source": [
    "import numpy as np\n",
    "from PIL import Image\n",
    "\n",
    "def stereo_match(left_img, right_img, kernel, max_offset):\n",
    "    # Load in both images, assumed to be RGBA 8bit per channel images\n",
    "    left_img = Image.open(left_img).convert('L')\n",
    "    left = np.asarray(left_img)\n",
    "    right_img = Image.open(right_img).convert('L')\n",
    "    right = np.asarray(right_img)    \n",
    "    w, h = left_img.size  # assume that both images are same size   \n",
    "    \n",
    "    # Depth (or disparity) map\n",
    "    depth = np.zeros((w, h), np.uint8)\n",
    "    depth.shape = h, w\n",
    "       \n",
    "    kernel_half = int(kernel / 2)    \n",
    "    offset_adjust = 255 / max_offset  # this is used to map depth map output to 0-255 range\n",
    "      \n",
    "    for y in range(kernel_half, h - kernel_half):      \n",
    "        print(\".\", end=\"\", flush=True)  # let the user know that something is happening (slowly!)\n",
    "        \n",
    "        for x in range(kernel_half, w - kernel_half):\n",
    "            best_offset = 0\n",
    "            prev_ssd = 65534\n",
    "            \n",
    "            for offset in range(max_offset):               \n",
    "                ssd = 0\n",
    "                ssd_temp = 0                            \n",
    "                \n",
    "                # v and u are the x,y of our local window search, used to ensure a good \n",
    "                # match- going by the squared differences of two pixels alone is insufficient, \n",
    "                # we want to go by the squared differences of the neighbouring pixels too\n",
    "                for v in range(-kernel_half, kernel_half):\n",
    "                    for u in range(-kernel_half, kernel_half):\n",
    "                        # iteratively sum the sum of squared differences value for this block\n",
    "                        # left[] and right[] are arrays of uint8, so converting them to int saves\n",
    "                        # potential overflow, and executes a lot faster \n",
    "                        ssd_temp = int(left[y+v, x+u]) - int(right[y+v, (x+u) - offset])  \n",
    "                        ssd += ssd_temp * ssd_temp              \n",
    "                \n",
    "                # if this value is smaller than the previous ssd at this block\n",
    "                # then it's theoretically a closer match. Store this value against\n",
    "                # this block..\n",
    "                if ssd < prev_ssd:\n",
    "                    prev_ssd = ssd\n",
    "                    best_offset = offset\n",
    "                            \n",
    "            # set depth output for this x,y location to the best match\n",
    "            depth[y, x] = best_offset * offset_adjust\n",
    "                                \n",
    "    # Convert to PIL and save it\n",
    "    Image.fromarray(depth).save('depth.png')\n",
    "\n",
    "if __name__ == '__main__':\n",
    "    stereo_match(\"left_rectified.png\", \"right_rectified.png\", 6, 30)  # 6x6 local search kernel, 30 pixel search range"
   ]
  },
  {
   "cell_type": "code",
   "execution_count": 2,
   "metadata": {},
   "outputs": [
    {
     "ename": "NameError",
     "evalue": "name 'depth' is not defined",
     "output_type": "error",
     "traceback": [
      "\u001b[1;31m---------------------------------------------------------------------------\u001b[0m",
      "\u001b[1;31mNameError\u001b[0m                                 Traceback (most recent call last)",
      "\u001b[1;32m<ipython-input-2-15a3e886aba1>\u001b[0m in \u001b[0;36m<module>\u001b[1;34m\u001b[0m\n\u001b[1;32m----> 1\u001b[1;33m \u001b[0mdepth\u001b[0m\u001b[1;33m\u001b[0m\u001b[1;33m\u001b[0m\u001b[0m\n\u001b[0m",
      "\u001b[1;31mNameError\u001b[0m: name 'depth' is not defined"
     ]
    }
   ],
   "source": [
    "depth\n"
   ]
  },
  {
   "cell_type": "code",
   "execution_count": 2,
   "metadata": {},
   "outputs": [],
   "source": [
    "import numpy as np\n",
    "from PIL import Image"
   ]
  },
  {
   "cell_type": "code",
   "execution_count": 3,
   "metadata": {},
   "outputs": [],
   "source": [
    "def stereo_match(left_img, right_img, kernel, max_offset):\n",
    "    # Load in both images, assumed to be RGBA 8bit per channel images\n",
    "    left_img = Image.open(left_img).convert('L')\n",
    "    left = np.asarray(left_img)\n",
    "    right_img = Image.open(right_img).convert('L')\n",
    "    right = np.asarray(right_img)    \n",
    "    w, h = left_img.size  # assume that both images are same size   \n",
    "    \n",
    "    # Depth (or disparity) map\n",
    "    depth = np.zeros((w, h), np.uint8)\n",
    "    depth.shape = h, w\n",
    "       \n",
    "    kernel_half = int(kernel / 2)    \n",
    "    offset_adjust = 255 / max_offset  # this is used to map depth map output to 0-255 range\n",
    "      \n",
    "    for y in range(kernel_half, h - kernel_half):      \n",
    "        print(\".\", end=\"\", flush=True)  # let the user know that something is happening (slowly!)\n",
    "        \n",
    "        for x in range(kernel_half, w - kernel_half):\n",
    "            best_offset = 0\n",
    "            prev_ssd = 65534\n",
    "            \n",
    "            for offset in range(max_offset):               \n",
    "                ssd = 0\n",
    "                ssd_temp = 0                            \n",
    "                \n",
    "                # v and u are the x,y of our local window search, used to ensure a good \n",
    "                # match- going by the squared differences of two pixels alone is insufficient, \n",
    "                # we want to go by the squared differences of the neighbouring pixels too\n",
    "                for v in range(-kernel_half, kernel_half):\n",
    "                    for u in range(-kernel_half, kernel_half):\n",
    "                        # iteratively sum the sum of squared differences value for this block\n",
    "                        # left[] and right[] are arrays of uint8, so converting them to int saves\n",
    "                        # potential overflow, and executes a lot faster \n",
    "                        ssd_temp = int(left[y+v, x+u]) - int(right[y+v, (x+u) - offset])  \n",
    "                        ssd += ssd_temp * ssd_temp              \n",
    "                \n",
    "                # if this value is smaller than the previous ssd at this block\n",
    "                # then it's theoretically a closer match. Store this value against\n",
    "                # this block..\n",
    "                if ssd < prev_ssd:\n",
    "                    prev_ssd = ssd\n",
    "                    best_offset = offset\n",
    "                            \n",
    "            # set depth output for this x,y location to the best match\n",
    "            depth[y, x] = best_offset * offset_adjust\n",
    "                                \n",
    "    # Convert to PIL and save it\n",
    "    Image.fromarray(depth).save('depth.png')"
   ]
  },
  {
   "cell_type": "code",
   "execution_count": 4,
   "metadata": {},
   "outputs": [
    {
     "name": "stdout",
     "output_type": "stream",
     "text": [
      ".................................................................................................................................................................................................................................................................................................................................................................................................................................................................................................................................................................................................................................................................................................................................................................................................."
     ]
    }
   ],
   "source": [
    "if __name__ == '__main__':\n",
    "    stereo_match(\"left_rectified.png\", \"right_rectified.png\", 8, 30)  # 6x6 local search kernel, 30 pixel search range"
   ]
  },
  {
   "cell_type": "code",
   "execution_count": 15,
   "metadata": {},
   "outputs": [],
   "source": [
    "\n",
    "number=abs(ssd_temp)\n",
    "k=0\n",
    "for digit in str(number):\n",
    "    k += int(digit)\n",
    "ssd += k\n"
   ]
  },
  {
   "cell_type": "code",
   "execution_count": 16,
   "metadata": {},
   "outputs": [
    {
     "data": {
      "text/plain": [
       "7"
      ]
     },
     "execution_count": 16,
     "metadata": {},
     "output_type": "execute_result"
    }
   ],
   "source": [
    "sum_of_digits"
   ]
  },
  {
   "cell_type": "code",
   "execution_count": null,
   "metadata": {},
   "outputs": [],
   "source": []
  }
 ],
 "metadata": {
  "kernelspec": {
   "display_name": "Python 3",
   "language": "python",
   "name": "python3"
  },
  "language_info": {
   "codemirror_mode": {
    "name": "ipython",
    "version": 3
   },
   "file_extension": ".py",
   "mimetype": "text/x-python",
   "name": "python",
   "nbconvert_exporter": "python",
   "pygments_lexer": "ipython3",
   "version": "3.7.4"
  }
 },
 "nbformat": 4,
 "nbformat_minor": 2
}
