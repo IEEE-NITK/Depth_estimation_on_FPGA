{
 "cells": [
  {
   "cell_type": "code",
   "execution_count": 7,
   "metadata": {},
   "outputs": [
    {
     "ename": "IndexError",
     "evalue": "tuple index out of range",
     "output_type": "error",
     "traceback": [
      "\u001b[1;31m---------------------------------------------------------------------------\u001b[0m",
      "\u001b[1;31mIndexError\u001b[0m                                Traceback (most recent call last)",
      "\u001b[1;32m<ipython-input-7-f3e9e180a911>\u001b[0m in \u001b[0;36m<module>\u001b[1;34m\u001b[0m\n\u001b[0;32m     54\u001b[0m \u001b[1;31m# img_size=np.shape(limg)\u001b[0m\u001b[1;33m\u001b[0m\u001b[1;33m\u001b[0m\u001b[1;33m\u001b[0m\u001b[0m\n\u001b[0;32m     55\u001b[0m \u001b[0msize\u001b[0m\u001b[1;33m=\u001b[0m\u001b[0mnp\u001b[0m\u001b[1;33m.\u001b[0m\u001b[0mshape\u001b[0m\u001b[1;33m(\u001b[0m\u001b[0mlimg\u001b[0m\u001b[1;33m)\u001b[0m\u001b[1;33m[\u001b[0m\u001b[1;36m0\u001b[0m\u001b[1;33m:\u001b[0m\u001b[1;36m2\u001b[0m\u001b[1;33m]\u001b[0m\u001b[1;33m\u001b[0m\u001b[1;33m\u001b[0m\u001b[0m\n\u001b[1;32m---> 56\u001b[1;33m \u001b[0mh\u001b[0m\u001b[1;33m=\u001b[0m\u001b[0msize\u001b[0m\u001b[1;33m[\u001b[0m\u001b[1;36m0\u001b[0m\u001b[1;33m]\u001b[0m\u001b[1;33m\u001b[0m\u001b[1;33m\u001b[0m\u001b[0m\n\u001b[0m\u001b[0;32m     57\u001b[0m \u001b[0mw\u001b[0m\u001b[1;33m=\u001b[0m\u001b[0msize\u001b[0m\u001b[1;33m[\u001b[0m\u001b[1;36m1\u001b[0m\u001b[1;33m]\u001b[0m\u001b[1;33m\u001b[0m\u001b[1;33m\u001b[0m\u001b[0m\n\u001b[0;32m     58\u001b[0m \u001b[0mrres\u001b[0m\u001b[1;33m=\u001b[0m\u001b[0mnp\u001b[0m\u001b[1;33m.\u001b[0m\u001b[0mzeros\u001b[0m\u001b[1;33m(\u001b[0m\u001b[1;33m(\u001b[0m\u001b[0mnp\u001b[0m\u001b[1;33m.\u001b[0m\u001b[0mshape\u001b[0m\u001b[1;33m(\u001b[0m\u001b[0mlres\u001b[0m\u001b[1;33m)\u001b[0m\u001b[1;33m[\u001b[0m\u001b[1;36m0\u001b[0m\u001b[1;33m]\u001b[0m\u001b[1;33m,\u001b[0m\u001b[0mnp\u001b[0m\u001b[1;33m.\u001b[0m\u001b[0mshape\u001b[0m\u001b[1;33m(\u001b[0m\u001b[0mlres\u001b[0m\u001b[1;33m)\u001b[0m\u001b[1;33m[\u001b[0m\u001b[1;36m1\u001b[0m\u001b[1;33m]\u001b[0m\u001b[1;33m,\u001b[0m\u001b[0mmaxDisparity\u001b[0m\u001b[1;33m)\u001b[0m\u001b[1;33m,\u001b[0m\u001b[0mdtype\u001b[0m\u001b[1;33m=\u001b[0m\u001b[0mnp\u001b[0m\u001b[1;33m.\u001b[0m\u001b[0mint64\u001b[0m\u001b[1;33m)\u001b[0m\u001b[1;33m\u001b[0m\u001b[1;33m\u001b[0m\u001b[0m\n",
      "\u001b[1;31mIndexError\u001b[0m: tuple index out of range"
     ]
    }
   ],
   "source": [
    "import os \n",
    "import time\n",
    "import cv2 as cv\n",
    "import numpy as np\n",
    "import matplotlib.pyplot as plt\n",
    "from numba import jit\n",
    "\n",
    "maxDisparity=12 #Maximum parallax, which is the search range, the larger the search range, the longer it takes\n",
    "window_size=5#Sliding window size, the larger the window, the more difficult it is to successfully match\n",
    "same=np.int64(window_size/2)#Half of the window size is rounded down, such as the x and y coordinates used to measure the distance between the upper left corner of the window and the center point of the window\n",
    "@jit\n",
    "def census (img):\n",
    "    size=np.shape(img)[0:2]\n",
    "    h=size[0]\n",
    "    w=size[1]\n",
    "    census = np.zeros((h-2*same, w-2*same), dtype=np.int64)\n",
    "    #census is the transformed image\n",
    "    cp = img[same:h-same, same:w-same]\n",
    "    #cp is the coordinates of the center point of the transformation, 0, 0 points as the upper left corner of the window, the center point is (same, same)\n",
    "    offsets = [(u, v) for v in range(window_size) for u in range(window_size) if not u == same == v]\n",
    "    #offset is to measure whether a certain point is matched as the upper left corner of the window, and whether the matching is successful as the upper left corner of the window is shifted to the left, until the match is successful as the lower right corner of the window.\n",
    "    for u,v in offsets:\n",
    "        census = (census << 1) | (img[v:v+h-2*same, u:u+w-2*same] >= cp)#Here is the most difficult to understand, please refer to [my other blog post](https://editor.csdn.net/md/?articleId=104319258), if you still don’t understand, please send me a private message or leave a message\n",
    "    return census\n",
    "\n",
    "'''The above part is to generate the picture after the census change. Each pixel coordinate is actually a binary string, which represents the matching situation of each bit.\n",
    " If the window size is selected as 3, then the total number of matches for each pixel is 3*3=9 times, but the center point must be removed, that is, 8 times. An 8-digit binary string can be formed\n",
    " The maximum decimal number is 255, of course you can also choose a larger window'''\n",
    "\n",
    "\n",
    "'''The following part is the matching process of the two pictures, because the ultimate goal is to match the left and right images to find the best parallax'''\n",
    "@jit\n",
    "def hanming(limg,rimg,dispmap,Diffmap):\n",
    "    size=np.shape(limg)[0:2]\n",
    "    h=size[0]\n",
    "    w=size[1]\n",
    "    lres=census(limg[:,maxDisparity:w])\n",
    "    rres=census(rimg[:,0:w-maxDisparity])\n",
    "    for x in range(0,np.shape(lres)[0]):\n",
    "        for y in range(maxDisparity,np.shape(lres)[1]):\n",
    "            for i in range(0,maxDisparity):\n",
    "                dispmap[x,y,i]='{:025b}'.format(((rres[x,y-i]) ^ (lres[x,y]))).count('0')#Starting from the current position, find the binary string closest to the left picture in the right picture to complete the match\n",
    "    for x in range(0,np.shape(lres)[0]):\n",
    "        for y in range(0,np.shape(lres)[1]):\n",
    "            val=np.sort( dispmap[x,y,:])#Ranking\n",
    "            val_id=np.argsort(dispmap[x,y,:])#Find the closest\n",
    "            Diffmap[x,y]=dispmap[x,y,:].argsort()[-1]\n",
    "    \n",
    "os.chdir(r'C:\\Users\\VINEETH NARAYAN\\c.programs')\n",
    "c=cv.imread('im0.ppm',cv.IMREAD_GRAYSCALE)\n",
    "limg=np.asanyarray(c)\n",
    "d=cv.imread('im1.ppm',cv.IMREAD_GRAYSCALE)\n",
    "rimg=np.asanyarray(d)\n",
    "# img_size=np.shape(limg)\n",
    "size=np.shape(limg)[0:2]\n",
    "h=size[0]\n",
    "w=size[1]\n",
    "rres=np.zeros((np.shape(lres)[0],np.shape(lres)[1],maxDisparity),dtype=np.int64)\n",
    "dispmap=np.zeros((np.shape(lres)[0],np.shape(lres)[1],maxDisparity),dtype=np.int64)\n",
    "Diffmap=np.zeros((np.shape(lres)[0],np.shape(lres)[1]),dtype=np.int64)\n",
    "tic1=time.time()\n",
    "hanming(limg,rimg,dispmap,Diffmap)\n",
    "plt.imshow( Diffmap[:,maxDisparity:])\n",
    "plt.show()\n",
    "print('time cost:',time.time()-tic1)"
   ]
  },
  {
   "cell_type": "code",
   "execution_count": null,
   "metadata": {},
   "outputs": [],
   "source": []
  }
 ],
 "metadata": {
  "kernelspec": {
   "display_name": "Python 3",
   "language": "python",
   "name": "python3"
  },
  "language_info": {
   "codemirror_mode": {
    "name": "ipython",
    "version": 3
   },
   "file_extension": ".py",
   "mimetype": "text/x-python",
   "name": "python",
   "nbconvert_exporter": "python",
   "pygments_lexer": "ipython3",
   "version": "3.7.4"
  }
 },
 "nbformat": 4,
 "nbformat_minor": 2
}
