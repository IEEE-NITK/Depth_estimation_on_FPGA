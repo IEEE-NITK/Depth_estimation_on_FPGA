{
 "cells": [
  {
   "cell_type": "code",
   "execution_count": 6,
   "metadata": {},
   "outputs": [
    {
     "name": "stdout",
     "output_type": "stream",
     "text": [
      "image size: 433 x 381 = 164973\n",
      "image mode: L\n"
     ]
    }
   ],
   "source": [
    "import numpy as np\n",
    "from PIL import Image\n",
    "import cv2\n",
    "\n",
    "\n",
    "iname = 'k.png'\n",
    "oname = 'Glasses0S_census.png'\n",
    "\n",
    "#Get the source image\n",
    "src_img = Image.open(iname)\n",
    "src_img.show()\n",
    "\n",
    "w, h = src_img.size\n",
    "print('image size: %d x %d = %d' % (w, h, w * h))\n",
    "print('image mode:', src_img.mode)\n",
    "\n",
    "#Convert image to Numpy array\n",
    "src_bytes = np.asarray(src_img)\n",
    "\n",
    "#Initialize output array\n",
    "census = np.zeros((h-2, w-2), dtype='uint8')\n",
    "\n",
    "#centre pixels, which are offset by (1, 1)\n",
    "cp = src_bytes[1:h-1, 1:w-1]\n",
    "\n",
    "#offsets of non-central pixels \n",
    "offsets = [(u, v) for v in range(3) for u in range(3) if not u == 1 == v]\n",
    "\n",
    "#Do the pixel comparisons\n",
    "for u,v in offsets:\n",
    "    census = (census << 1) | (src_bytes[v:v+h-2, u:u+w-2] >= cp)\n",
    "\n",
    "#Convert transformed data to image\n",
    "out_img = Image.fromarray(census)\n",
    "out_img.show()\n",
    "out_img.save(oname)"
   ]
  },
  {
   "cell_type": "code",
   "execution_count": null,
   "metadata": {},
   "outputs": [],
   "source": []
  }
 ],
 "metadata": {
  "kernelspec": {
   "display_name": "Python 3",
   "language": "python",
   "name": "python3"
  },
  "language_info": {
   "codemirror_mode": {
    "name": "ipython",
    "version": 3
   },
   "file_extension": ".py",
   "mimetype": "text/x-python",
   "name": "python",
   "nbconvert_exporter": "python",
   "pygments_lexer": "ipython3",
   "version": "3.7.4"
  }
 },
 "nbformat": 4,
 "nbformat_minor": 2
}
